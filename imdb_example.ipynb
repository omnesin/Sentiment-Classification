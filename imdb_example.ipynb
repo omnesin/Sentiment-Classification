{
 "cells": [
  {
   "cell_type": "code",
   "execution_count": 2,
   "metadata": {},
   "outputs": [
    {
     "name": "stdout",
     "output_type": "stream",
     "text": [
      "Train on 25000 samples, validate on 12500 samples\n",
      "Epoch 1/15\n",
      "25000/25000 [==============================] - 471s 19ms/step - loss: 0.6395 - acc: 0.7168 - val_loss: 0.5477 - val_acc: 0.8128\n",
      "Epoch 2/15\n",
      "25000/25000 [==============================] - 477s 19ms/step - loss: 0.4271 - acc: 0.8722 - val_loss: 0.3929 - val_acc: 0.8670\n",
      "Epoch 3/15\n",
      "25000/25000 [==============================] - 468s 19ms/step - loss: 0.2748 - acc: 0.9271 - val_loss: 0.3239 - val_acc: 0.8845\n",
      "Epoch 4/15\n",
      "25000/25000 [==============================] - 470s 19ms/step - loss: 0.1868 - acc: 0.9567 - val_loss: 0.2883 - val_acc: 0.8953\n",
      "Epoch 5/15\n",
      "25000/25000 [==============================] - 465s 19ms/step - loss: 0.1293 - acc: 0.9736 - val_loss: 0.2699 - val_acc: 0.9007\n",
      "Epoch 6/15\n",
      "25000/25000 [==============================] - 471s 19ms/step - loss: 0.0895 - acc: 0.9849 - val_loss: 0.2586 - val_acc: 0.9039\n",
      "Epoch 7/15\n",
      "25000/25000 [==============================] - 467s 19ms/step - loss: 0.0623 - acc: 0.9916 - val_loss: 0.2540 - val_acc: 0.9063\n",
      "Epoch 8/15\n",
      "25000/25000 [==============================] - 463s 19ms/step - loss: 0.0433 - acc: 0.9952 - val_loss: 0.2569 - val_acc: 0.8983\n",
      "Epoch 9/15\n",
      "25000/25000 [==============================] - 468s 19ms/step - loss: 0.0301 - acc: 0.9976 - val_loss: 0.2522 - val_acc: 0.9063\n",
      "Epoch 10/15\n",
      "25000/25000 [==============================] - 469s 19ms/step - loss: 0.0211 - acc: 0.9986 - val_loss: 0.2531 - val_acc: 0.9066\n",
      "Epoch 11/15\n",
      "25000/25000 [==============================] - 454s 18ms/step - loss: 0.0149 - acc: 0.9991 - val_loss: 0.2559 - val_acc: 0.9058\n",
      "Epoch 12/15\n",
      "25000/25000 [==============================] - 502s 20ms/step - loss: 0.0106 - acc: 0.9994 - val_loss: 0.2625 - val_acc: 0.9053\n",
      "Epoch 13/15\n",
      "25000/25000 [==============================] - 528s 21ms/step - loss: 0.0075 - acc: 0.9997 - val_loss: 0.2650 - val_acc: 0.9046\n",
      "Epoch 14/15\n",
      "25000/25000 [==============================] - 521s 21ms/step - loss: 0.0054 - acc: 0.9997 - val_loss: 0.2692 - val_acc: 0.9058\n",
      "Epoch 15/15\n",
      "25000/25000 [==============================] - 529s 21ms/step - loss: 0.0039 - acc: 0.9999 - val_loss: 0.2799 - val_acc: 0.9042\n"
     ]
    }
   ],
   "source": [
    "import numpy as np\n",
    "\n",
    "trnX = np.load(\"imdb_trnX.npy\").astype(\"int32\")\n",
    "trnY = []\n",
    "input = open(\"imdb_trn.csv\", \"r\")\n",
    "header = input.readline()\n",
    "for line in input:\n",
    "    trnY.append(int(line.strip(\"\\r\\n\").split(\",\")[1]))\n",
    "input.close()\n",
    "trnY = np.array(trnY).astype(\"int32\")\n",
    "\n",
    "valX = np.load(\"imdb_valX.npy\").astype(\"int32\")\n",
    "valY = []\n",
    "input = open(\"imdb_val.csv\", \"r\")\n",
    "header = input.readline()\n",
    "for line in input:\n",
    "    valY.append(int(line.strip(\"\\r\\n\").split(\",\")[1]))\n",
    "input.close()\n",
    "valY = np.array(valY).astype(\"int32\")\n",
    "\n",
    "from keras.models import Sequential\n",
    "from keras.layers import Dense, Embedding, GlobalAveragePooling1D\n",
    "from keras.optimizers import RMSprop\n",
    "from keras.callbacks import EarlyStopping, ReduceLROnPlateau\n",
    "\n",
    "model = Sequential()\n",
    "model.add(Embedding(trnX.max() + 1, 50, input_length=trnX.shape[1]))\n",
    "model.add(GlobalAveragePooling1D())\n",
    "model.add(Dense(1, activation='sigmoid'))\n",
    "model.compile(loss='binary_crossentropy', optimizer='adam', metrics=['accuracy'])\n",
    "\n",
    "model.fit(trnX, trnY, batch_size = 32, epochs = 15, validation_data=(valX, valY), callbacks = [ ReduceLROnPlateau(monitor = \"val_acc\", patience = 5), EarlyStopping(monitor = \"val_acc\", patience = 10, restore_best_weights = True) ])\n",
    "\n",
    "tstX = np.load(\"imdb_tstX.npy\").astype(\"int32\")\n",
    "probabilities = model.predict(tstX)\n",
    "\n",
    "predictions = open(\"predictions.csv\", \"w\")\n",
    "predictions.write(\"id,label\\n\")\n",
    "for i in range(tstX.shape[0]):\n",
    "    if (probabilities[i,0] > 0.5):\n",
    "        predictions.write(str(i).zfill(5) + \",1\\n\")\n",
    "    else:\n",
    "        predictions.write(str(i).zfill(5) + \",0\\n\")\n",
    "predictions.close()"
   ]
  },
  {
   "cell_type": "code",
   "execution_count": null,
   "metadata": {},
   "outputs": [],
   "source": []
  }
 ],
 "metadata": {
  "kernelspec": {
   "display_name": "Python 3",
   "language": "python",
   "name": "python3"
  },
  "language_info": {
   "codemirror_mode": {
    "name": "ipython",
    "version": 3
   },
   "file_extension": ".py",
   "mimetype": "text/x-python",
   "name": "python",
   "nbconvert_exporter": "python",
   "pygments_lexer": "ipython3",
   "version": "3.6.4"
  }
 },
 "nbformat": 4,
 "nbformat_minor": 2
}
